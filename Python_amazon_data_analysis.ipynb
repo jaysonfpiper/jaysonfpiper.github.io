{
 "cells": [
  {
   "cell_type": "markdown",
   "id": "38a131bd-7bb0-44a4-bf5e-8eabf361a5f5",
   "metadata": {},
   "source": [
    "# Full data analysis in Python by Jayson Piper\n",
    "Firstly I looked on Kaggle for a data set and found and Amazon delivery time data set that I liked. (https://www.kaggle.com/datasets/sujalsuthar/amazon-delivery-dataset) It has over 43,000 rows, so it is a nice large set of data.\n",
    "    Using this data set I will be identifying what factors effect the delivery time from pick up to delivery to the customer. Looking at weather and traffic conditions as well as vehicle type and product category."
   ]
  },
  {
   "cell_type": "markdown",
   "id": "c9c54b90-b602-4045-ac9f-d1a1b43fa6af",
   "metadata": {},
   "source": [
    "### Firstly I will be importing the libraries I will be using in this project."
   ]
  },
  {
   "cell_type": "code",
   "execution_count": 1,
   "id": "a61c0c71-acf7-46f3-b5cc-10e1f8d75247",
   "metadata": {},
   "outputs": [],
   "source": [
    "import pandas as pd\n",
    "import numpy as np\n",
    "import matplotlib.pyplot as plt\n",
    "import seaborn as sns"
   ]
  },
  {
   "cell_type": "markdown",
   "id": "0437d72e-13d5-4c8d-b3e1-1174aec6d09f",
   "metadata": {},
   "source": [
    "### Next I will import my data set."
   ]
  },
  {
   "cell_type": "code",
   "execution_count": 2,
   "id": "2d837cb1-dd50-4d36-923d-4db15442c12e",
   "metadata": {},
   "outputs": [],
   "source": [
    "amazon = pd.read_csv('amazon_delivery.csv')"
   ]
  },
  {
   "cell_type": "markdown",
   "id": "e11afd34-f560-495d-be82-828046b4f12e",
   "metadata": {},
   "source": [
    "### Now I will check everything has worked as it should have."
   ]
  },
  {
   "cell_type": "code",
   "execution_count": 3,
   "id": "908ed304-2db8-4fbc-bede-3945eda5f72b",
   "metadata": {},
   "outputs": [
    {
     "data": {
      "text/html": [
       "<div>\n",
       "<style scoped>\n",
       "    .dataframe tbody tr th:only-of-type {\n",
       "        vertical-align: middle;\n",
       "    }\n",
       "\n",
       "    .dataframe tbody tr th {\n",
       "        vertical-align: top;\n",
       "    }\n",
       "\n",
       "    .dataframe thead th {\n",
       "        text-align: right;\n",
       "    }\n",
       "</style>\n",
       "<table border=\"1\" class=\"dataframe\">\n",
       "  <thead>\n",
       "    <tr style=\"text-align: right;\">\n",
       "      <th></th>\n",
       "      <th>Order_ID</th>\n",
       "      <th>Agent_Age</th>\n",
       "      <th>Agent_Rating</th>\n",
       "      <th>Store_Latitude</th>\n",
       "      <th>Store_Longitude</th>\n",
       "      <th>Drop_Latitude</th>\n",
       "      <th>Drop_Longitude</th>\n",
       "      <th>Order_Date</th>\n",
       "      <th>Order_Time</th>\n",
       "      <th>Pickup_Time</th>\n",
       "      <th>Weather</th>\n",
       "      <th>Traffic</th>\n",
       "      <th>Vehicle</th>\n",
       "      <th>Area</th>\n",
       "      <th>Delivery_Time</th>\n",
       "      <th>Category</th>\n",
       "    </tr>\n",
       "  </thead>\n",
       "  <tbody>\n",
       "    <tr>\n",
       "      <th>0</th>\n",
       "      <td>ialx566343618</td>\n",
       "      <td>37</td>\n",
       "      <td>4.9</td>\n",
       "      <td>22.745049</td>\n",
       "      <td>75.892471</td>\n",
       "      <td>22.765049</td>\n",
       "      <td>75.912471</td>\n",
       "      <td>2022-03-19</td>\n",
       "      <td>11:30:00</td>\n",
       "      <td>11:45:00</td>\n",
       "      <td>Sunny</td>\n",
       "      <td>High</td>\n",
       "      <td>motorcycle</td>\n",
       "      <td>Urban</td>\n",
       "      <td>120</td>\n",
       "      <td>Clothing</td>\n",
       "    </tr>\n",
       "    <tr>\n",
       "      <th>1</th>\n",
       "      <td>akqg208421122</td>\n",
       "      <td>34</td>\n",
       "      <td>4.5</td>\n",
       "      <td>12.913041</td>\n",
       "      <td>77.683237</td>\n",
       "      <td>13.043041</td>\n",
       "      <td>77.813237</td>\n",
       "      <td>2022-03-25</td>\n",
       "      <td>19:45:00</td>\n",
       "      <td>19:50:00</td>\n",
       "      <td>Stormy</td>\n",
       "      <td>Jam</td>\n",
       "      <td>scooter</td>\n",
       "      <td>Metropolitian</td>\n",
       "      <td>165</td>\n",
       "      <td>Electronics</td>\n",
       "    </tr>\n",
       "    <tr>\n",
       "      <th>2</th>\n",
       "      <td>njpu434582536</td>\n",
       "      <td>23</td>\n",
       "      <td>4.4</td>\n",
       "      <td>12.914264</td>\n",
       "      <td>77.678400</td>\n",
       "      <td>12.924264</td>\n",
       "      <td>77.688400</td>\n",
       "      <td>2022-03-19</td>\n",
       "      <td>08:30:00</td>\n",
       "      <td>08:45:00</td>\n",
       "      <td>Sandstorms</td>\n",
       "      <td>Low</td>\n",
       "      <td>motorcycle</td>\n",
       "      <td>Urban</td>\n",
       "      <td>130</td>\n",
       "      <td>Sports</td>\n",
       "    </tr>\n",
       "    <tr>\n",
       "      <th>3</th>\n",
       "      <td>rjto796129700</td>\n",
       "      <td>38</td>\n",
       "      <td>4.7</td>\n",
       "      <td>11.003669</td>\n",
       "      <td>76.976494</td>\n",
       "      <td>11.053669</td>\n",
       "      <td>77.026494</td>\n",
       "      <td>2022-04-05</td>\n",
       "      <td>18:00:00</td>\n",
       "      <td>18:10:00</td>\n",
       "      <td>Sunny</td>\n",
       "      <td>Medium</td>\n",
       "      <td>motorcycle</td>\n",
       "      <td>Metropolitian</td>\n",
       "      <td>105</td>\n",
       "      <td>Cosmetics</td>\n",
       "    </tr>\n",
       "    <tr>\n",
       "      <th>4</th>\n",
       "      <td>zguw716275638</td>\n",
       "      <td>32</td>\n",
       "      <td>4.6</td>\n",
       "      <td>12.972793</td>\n",
       "      <td>80.249982</td>\n",
       "      <td>13.012793</td>\n",
       "      <td>80.289982</td>\n",
       "      <td>2022-03-26</td>\n",
       "      <td>13:30:00</td>\n",
       "      <td>13:45:00</td>\n",
       "      <td>Cloudy</td>\n",
       "      <td>High</td>\n",
       "      <td>scooter</td>\n",
       "      <td>Metropolitian</td>\n",
       "      <td>150</td>\n",
       "      <td>Toys</td>\n",
       "    </tr>\n",
       "  </tbody>\n",
       "</table>\n",
       "</div>"
      ],
      "text/plain": [
       "        Order_ID  Agent_Age  Agent_Rating  Store_Latitude  Store_Longitude  \\\n",
       "0  ialx566343618         37           4.9       22.745049        75.892471   \n",
       "1  akqg208421122         34           4.5       12.913041        77.683237   \n",
       "2  njpu434582536         23           4.4       12.914264        77.678400   \n",
       "3  rjto796129700         38           4.7       11.003669        76.976494   \n",
       "4  zguw716275638         32           4.6       12.972793        80.249982   \n",
       "\n",
       "   Drop_Latitude  Drop_Longitude  Order_Date Order_Time Pickup_Time  \\\n",
       "0      22.765049       75.912471  2022-03-19   11:30:00    11:45:00   \n",
       "1      13.043041       77.813237  2022-03-25   19:45:00    19:50:00   \n",
       "2      12.924264       77.688400  2022-03-19   08:30:00    08:45:00   \n",
       "3      11.053669       77.026494  2022-04-05   18:00:00    18:10:00   \n",
       "4      13.012793       80.289982  2022-03-26   13:30:00    13:45:00   \n",
       "\n",
       "      Weather  Traffic      Vehicle            Area  Delivery_Time  \\\n",
       "0       Sunny    High   motorcycle           Urban             120   \n",
       "1      Stormy     Jam      scooter   Metropolitian             165   \n",
       "2  Sandstorms     Low   motorcycle           Urban             130   \n",
       "3       Sunny  Medium   motorcycle   Metropolitian             105   \n",
       "4      Cloudy    High      scooter   Metropolitian             150   \n",
       "\n",
       "      Category  \n",
       "0     Clothing  \n",
       "1  Electronics  \n",
       "2       Sports  \n",
       "3    Cosmetics  \n",
       "4         Toys  "
      ]
     },
     "execution_count": 3,
     "metadata": {},
     "output_type": "execute_result"
    }
   ],
   "source": [
    "amazon.head()"
   ]
  },
  {
   "cell_type": "code",
   "execution_count": 4,
   "id": "2e95264d-f901-4ce1-84a4-209ece62a02f",
   "metadata": {},
   "outputs": [
    {
     "data": {
      "text/html": [
       "<div>\n",
       "<style scoped>\n",
       "    .dataframe tbody tr th:only-of-type {\n",
       "        vertical-align: middle;\n",
       "    }\n",
       "\n",
       "    .dataframe tbody tr th {\n",
       "        vertical-align: top;\n",
       "    }\n",
       "\n",
       "    .dataframe thead th {\n",
       "        text-align: right;\n",
       "    }\n",
       "</style>\n",
       "<table border=\"1\" class=\"dataframe\">\n",
       "  <thead>\n",
       "    <tr style=\"text-align: right;\">\n",
       "      <th></th>\n",
       "      <th>Order_ID</th>\n",
       "      <th>Agent_Age</th>\n",
       "      <th>Agent_Rating</th>\n",
       "      <th>Store_Latitude</th>\n",
       "      <th>Store_Longitude</th>\n",
       "      <th>Drop_Latitude</th>\n",
       "      <th>Drop_Longitude</th>\n",
       "      <th>Order_Date</th>\n",
       "      <th>Order_Time</th>\n",
       "      <th>Pickup_Time</th>\n",
       "      <th>Weather</th>\n",
       "      <th>Traffic</th>\n",
       "      <th>Vehicle</th>\n",
       "      <th>Area</th>\n",
       "      <th>Delivery_Time</th>\n",
       "      <th>Category</th>\n",
       "    </tr>\n",
       "  </thead>\n",
       "  <tbody>\n",
       "    <tr>\n",
       "      <th>43734</th>\n",
       "      <td>jlxf819993117</td>\n",
       "      <td>30</td>\n",
       "      <td>4.8</td>\n",
       "      <td>26.902328</td>\n",
       "      <td>75.794257</td>\n",
       "      <td>26.912328</td>\n",
       "      <td>75.804257</td>\n",
       "      <td>2022-03-24</td>\n",
       "      <td>11:35:00</td>\n",
       "      <td>11:45:00</td>\n",
       "      <td>Windy</td>\n",
       "      <td>High</td>\n",
       "      <td>motorcycle</td>\n",
       "      <td>Metropolitian</td>\n",
       "      <td>160</td>\n",
       "      <td>Home</td>\n",
       "    </tr>\n",
       "    <tr>\n",
       "      <th>43735</th>\n",
       "      <td>aevx342135787</td>\n",
       "      <td>21</td>\n",
       "      <td>4.6</td>\n",
       "      <td>0.000000</td>\n",
       "      <td>0.000000</td>\n",
       "      <td>0.070000</td>\n",
       "      <td>0.070000</td>\n",
       "      <td>2022-02-16</td>\n",
       "      <td>19:55:00</td>\n",
       "      <td>20:10:00</td>\n",
       "      <td>Windy</td>\n",
       "      <td>Jam</td>\n",
       "      <td>motorcycle</td>\n",
       "      <td>Metropolitian</td>\n",
       "      <td>180</td>\n",
       "      <td>Jewelry</td>\n",
       "    </tr>\n",
       "    <tr>\n",
       "      <th>43736</th>\n",
       "      <td>xnek760674819</td>\n",
       "      <td>30</td>\n",
       "      <td>4.9</td>\n",
       "      <td>13.022394</td>\n",
       "      <td>80.242439</td>\n",
       "      <td>13.052394</td>\n",
       "      <td>80.272439</td>\n",
       "      <td>2022-03-11</td>\n",
       "      <td>23:50:00</td>\n",
       "      <td>00:05:00</td>\n",
       "      <td>Cloudy</td>\n",
       "      <td>Low</td>\n",
       "      <td>scooter</td>\n",
       "      <td>Metropolitian</td>\n",
       "      <td>80</td>\n",
       "      <td>Home</td>\n",
       "    </tr>\n",
       "    <tr>\n",
       "      <th>43737</th>\n",
       "      <td>cynl434665991</td>\n",
       "      <td>20</td>\n",
       "      <td>4.7</td>\n",
       "      <td>11.001753</td>\n",
       "      <td>76.986241</td>\n",
       "      <td>11.041753</td>\n",
       "      <td>77.026241</td>\n",
       "      <td>2022-03-07</td>\n",
       "      <td>13:35:00</td>\n",
       "      <td>13:40:00</td>\n",
       "      <td>Cloudy</td>\n",
       "      <td>High</td>\n",
       "      <td>motorcycle</td>\n",
       "      <td>Metropolitian</td>\n",
       "      <td>130</td>\n",
       "      <td>Kitchen</td>\n",
       "    </tr>\n",
       "    <tr>\n",
       "      <th>43738</th>\n",
       "      <td>nsyz997960170</td>\n",
       "      <td>23</td>\n",
       "      <td>4.9</td>\n",
       "      <td>23.351058</td>\n",
       "      <td>85.325731</td>\n",
       "      <td>23.431058</td>\n",
       "      <td>85.405731</td>\n",
       "      <td>2022-03-02</td>\n",
       "      <td>17:10:00</td>\n",
       "      <td>17:15:00</td>\n",
       "      <td>Fog</td>\n",
       "      <td>Medium</td>\n",
       "      <td>scooter</td>\n",
       "      <td>Metropolitian</td>\n",
       "      <td>180</td>\n",
       "      <td>Cosmetics</td>\n",
       "    </tr>\n",
       "  </tbody>\n",
       "</table>\n",
       "</div>"
      ],
      "text/plain": [
       "            Order_ID  Agent_Age  Agent_Rating  Store_Latitude  \\\n",
       "43734  jlxf819993117         30           4.8       26.902328   \n",
       "43735  aevx342135787         21           4.6        0.000000   \n",
       "43736  xnek760674819         30           4.9       13.022394   \n",
       "43737  cynl434665991         20           4.7       11.001753   \n",
       "43738  nsyz997960170         23           4.9       23.351058   \n",
       "\n",
       "       Store_Longitude  Drop_Latitude  Drop_Longitude  Order_Date Order_Time  \\\n",
       "43734        75.794257      26.912328       75.804257  2022-03-24   11:35:00   \n",
       "43735         0.000000       0.070000        0.070000  2022-02-16   19:55:00   \n",
       "43736        80.242439      13.052394       80.272439  2022-03-11   23:50:00   \n",
       "43737        76.986241      11.041753       77.026241  2022-03-07   13:35:00   \n",
       "43738        85.325731      23.431058       85.405731  2022-03-02   17:10:00   \n",
       "\n",
       "      Pickup_Time Weather  Traffic      Vehicle            Area  \\\n",
       "43734    11:45:00   Windy    High   motorcycle   Metropolitian    \n",
       "43735    20:10:00   Windy     Jam   motorcycle   Metropolitian    \n",
       "43736    00:05:00  Cloudy     Low      scooter   Metropolitian    \n",
       "43737    13:40:00  Cloudy    High   motorcycle   Metropolitian    \n",
       "43738    17:15:00     Fog  Medium      scooter   Metropolitian    \n",
       "\n",
       "       Delivery_Time   Category  \n",
       "43734            160       Home  \n",
       "43735            180    Jewelry  \n",
       "43736             80       Home  \n",
       "43737            130    Kitchen  \n",
       "43738            180  Cosmetics  "
      ]
     },
     "execution_count": 4,
     "metadata": {},
     "output_type": "execute_result"
    }
   ],
   "source": [
    "amazon.tail()"
   ]
  },
  {
   "cell_type": "code",
   "execution_count": 5,
   "id": "ad6573d4-7bcd-4645-8771-9a7b5dc774ec",
   "metadata": {},
   "outputs": [
    {
     "data": {
      "text/html": [
       "<div>\n",
       "<style scoped>\n",
       "    .dataframe tbody tr th:only-of-type {\n",
       "        vertical-align: middle;\n",
       "    }\n",
       "\n",
       "    .dataframe tbody tr th {\n",
       "        vertical-align: top;\n",
       "    }\n",
       "\n",
       "    .dataframe thead th {\n",
       "        text-align: right;\n",
       "    }\n",
       "</style>\n",
       "<table border=\"1\" class=\"dataframe\">\n",
       "  <thead>\n",
       "    <tr style=\"text-align: right;\">\n",
       "      <th></th>\n",
       "      <th>Order_ID</th>\n",
       "      <th>Agent_Age</th>\n",
       "      <th>Agent_Rating</th>\n",
       "      <th>Store_Latitude</th>\n",
       "      <th>Store_Longitude</th>\n",
       "      <th>Drop_Latitude</th>\n",
       "      <th>Drop_Longitude</th>\n",
       "      <th>Order_Date</th>\n",
       "      <th>Order_Time</th>\n",
       "      <th>Pickup_Time</th>\n",
       "      <th>Weather</th>\n",
       "      <th>Traffic</th>\n",
       "      <th>Vehicle</th>\n",
       "      <th>Area</th>\n",
       "      <th>Delivery_Time</th>\n",
       "      <th>Category</th>\n",
       "    </tr>\n",
       "  </thead>\n",
       "  <tbody>\n",
       "    <tr>\n",
       "      <th>2126</th>\n",
       "      <td>ldxx648232776</td>\n",
       "      <td>36</td>\n",
       "      <td>4.5</td>\n",
       "      <td>17.459710</td>\n",
       "      <td>78.368855</td>\n",
       "      <td>17.469710</td>\n",
       "      <td>78.378855</td>\n",
       "      <td>2022-03-21</td>\n",
       "      <td>09:40:00</td>\n",
       "      <td>09:45:00</td>\n",
       "      <td>Windy</td>\n",
       "      <td>Low</td>\n",
       "      <td>van</td>\n",
       "      <td>Urban</td>\n",
       "      <td>115</td>\n",
       "      <td>Skincare</td>\n",
       "    </tr>\n",
       "    <tr>\n",
       "      <th>24314</th>\n",
       "      <td>pnsw590741238</td>\n",
       "      <td>25</td>\n",
       "      <td>4.7</td>\n",
       "      <td>19.103249</td>\n",
       "      <td>72.846749</td>\n",
       "      <td>19.163249</td>\n",
       "      <td>72.906749</td>\n",
       "      <td>2022-03-13</td>\n",
       "      <td>22:00:00</td>\n",
       "      <td>22:05:00</td>\n",
       "      <td>Sunny</td>\n",
       "      <td>Jam</td>\n",
       "      <td>scooter</td>\n",
       "      <td>Metropolitian</td>\n",
       "      <td>70</td>\n",
       "      <td>Jewelry</td>\n",
       "    </tr>\n",
       "    <tr>\n",
       "      <th>26727</th>\n",
       "      <td>bctt193303339</td>\n",
       "      <td>26</td>\n",
       "      <td>4.7</td>\n",
       "      <td>19.055831</td>\n",
       "      <td>72.833984</td>\n",
       "      <td>19.115831</td>\n",
       "      <td>72.893984</td>\n",
       "      <td>2022-03-13</td>\n",
       "      <td>23:40:00</td>\n",
       "      <td>23:55:00</td>\n",
       "      <td>Sandstorms</td>\n",
       "      <td>Low</td>\n",
       "      <td>motorcycle</td>\n",
       "      <td>Other</td>\n",
       "      <td>95</td>\n",
       "      <td>Electronics</td>\n",
       "    </tr>\n",
       "    <tr>\n",
       "      <th>21626</th>\n",
       "      <td>pzgd991877945</td>\n",
       "      <td>24</td>\n",
       "      <td>4.6</td>\n",
       "      <td>0.000000</td>\n",
       "      <td>0.000000</td>\n",
       "      <td>0.060000</td>\n",
       "      <td>0.060000</td>\n",
       "      <td>2022-02-17</td>\n",
       "      <td>19:25:00</td>\n",
       "      <td>19:40:00</td>\n",
       "      <td>Sandstorms</td>\n",
       "      <td>Jam</td>\n",
       "      <td>scooter</td>\n",
       "      <td>Urban</td>\n",
       "      <td>145</td>\n",
       "      <td>Jewelry</td>\n",
       "    </tr>\n",
       "    <tr>\n",
       "      <th>7295</th>\n",
       "      <td>zmfy302009946</td>\n",
       "      <td>35</td>\n",
       "      <td>4.8</td>\n",
       "      <td>23.234631</td>\n",
       "      <td>77.401663</td>\n",
       "      <td>23.344631</td>\n",
       "      <td>77.511663</td>\n",
       "      <td>2022-02-12</td>\n",
       "      <td>21:25:00</td>\n",
       "      <td>21:40:00</td>\n",
       "      <td>Cloudy</td>\n",
       "      <td>Jam</td>\n",
       "      <td>motorcycle</td>\n",
       "      <td>Metropolitian</td>\n",
       "      <td>230</td>\n",
       "      <td>Pet Supplies</td>\n",
       "    </tr>\n",
       "  </tbody>\n",
       "</table>\n",
       "</div>"
      ],
      "text/plain": [
       "            Order_ID  Agent_Age  Agent_Rating  Store_Latitude  \\\n",
       "2126   ldxx648232776         36           4.5       17.459710   \n",
       "24314  pnsw590741238         25           4.7       19.103249   \n",
       "26727  bctt193303339         26           4.7       19.055831   \n",
       "21626  pzgd991877945         24           4.6        0.000000   \n",
       "7295   zmfy302009946         35           4.8       23.234631   \n",
       "\n",
       "       Store_Longitude  Drop_Latitude  Drop_Longitude  Order_Date Order_Time  \\\n",
       "2126         78.368855      17.469710       78.378855  2022-03-21   09:40:00   \n",
       "24314        72.846749      19.163249       72.906749  2022-03-13   22:00:00   \n",
       "26727        72.833984      19.115831       72.893984  2022-03-13   23:40:00   \n",
       "21626         0.000000       0.060000        0.060000  2022-02-17   19:25:00   \n",
       "7295         77.401663      23.344631       77.511663  2022-02-12   21:25:00   \n",
       "\n",
       "      Pickup_Time     Weather Traffic      Vehicle            Area  \\\n",
       "2126     09:45:00       Windy    Low           van          Urban    \n",
       "24314    22:05:00       Sunny    Jam      scooter   Metropolitian    \n",
       "26727    23:55:00  Sandstorms    Low   motorcycle            Other   \n",
       "21626    19:40:00  Sandstorms    Jam      scooter           Urban    \n",
       "7295     21:40:00      Cloudy    Jam   motorcycle   Metropolitian    \n",
       "\n",
       "       Delivery_Time      Category  \n",
       "2126             115      Skincare  \n",
       "24314             70       Jewelry  \n",
       "26727             95   Electronics  \n",
       "21626            145       Jewelry  \n",
       "7295             230  Pet Supplies  "
      ]
     },
     "execution_count": 5,
     "metadata": {},
     "output_type": "execute_result"
    }
   ],
   "source": [
    "amazon.sample(5)"
   ]
  },
  {
   "cell_type": "markdown",
   "id": "eb93c7c4-1f53-48f1-9f7c-16c4faca8367",
   "metadata": {},
   "source": [
    "### I want to check how clean the data is. Firstly I will check how many NULL values there are by using '.INFO'"
   ]
  },
  {
   "cell_type": "code",
   "execution_count": 6,
   "id": "d66a8a61-de3c-44f3-81bf-92fc6f3c4b1e",
   "metadata": {},
   "outputs": [
    {
     "name": "stdout",
     "output_type": "stream",
     "text": [
      "<class 'pandas.core.frame.DataFrame'>\n",
      "RangeIndex: 43739 entries, 0 to 43738\n",
      "Data columns (total 16 columns):\n",
      " #   Column           Non-Null Count  Dtype  \n",
      "---  ------           --------------  -----  \n",
      " 0   Order_ID         43739 non-null  object \n",
      " 1   Agent_Age        43739 non-null  int64  \n",
      " 2   Agent_Rating     43685 non-null  float64\n",
      " 3   Store_Latitude   43739 non-null  float64\n",
      " 4   Store_Longitude  43739 non-null  float64\n",
      " 5   Drop_Latitude    43739 non-null  float64\n",
      " 6   Drop_Longitude   43739 non-null  float64\n",
      " 7   Order_Date       43739 non-null  object \n",
      " 8   Order_Time       43739 non-null  object \n",
      " 9   Pickup_Time      43739 non-null  object \n",
      " 10  Weather          43648 non-null  object \n",
      " 11  Traffic          43739 non-null  object \n",
      " 12  Vehicle          43739 non-null  object \n",
      " 13  Area             43739 non-null  object \n",
      " 14  Delivery_Time    43739 non-null  int64  \n",
      " 15  Category         43739 non-null  object \n",
      "dtypes: float64(5), int64(2), object(9)\n",
      "memory usage: 5.3+ MB\n"
     ]
    }
   ],
   "source": [
    "amazon.info()"
   ]
  },
  {
   "cell_type": "markdown",
   "id": "8c43fe47-716c-4659-b7eb-6849e1ed99b5",
   "metadata": {},
   "source": [
    "Looking at the information supplied by this i can see that there are very few NULL values. 54 for Agent rating and 91 for weather. As this is such a large data set I will just remove these entries. It comes to less than a third of a percent of the data set. There are also longitude and latitude figures i will not be using. I will not be using the order time or the pick up time so I will remove these columns. The data type for the order date column also needs changing. I will also tidy up the column names."
   ]
  },
  {
   "cell_type": "markdown",
   "id": "2ff7799e-280e-4eb2-9820-b79dab5f992b",
   "metadata": {},
   "source": [
    "### I will now check the data using '.DESCRIBE'"
   ]
  },
  {
   "cell_type": "code",
   "execution_count": 7,
   "id": "6c094c0c-e288-4d1d-91ed-684a88e69498",
   "metadata": {},
   "outputs": [
    {
     "data": {
      "text/html": [
       "<div>\n",
       "<style scoped>\n",
       "    .dataframe tbody tr th:only-of-type {\n",
       "        vertical-align: middle;\n",
       "    }\n",
       "\n",
       "    .dataframe tbody tr th {\n",
       "        vertical-align: top;\n",
       "    }\n",
       "\n",
       "    .dataframe thead th {\n",
       "        text-align: right;\n",
       "    }\n",
       "</style>\n",
       "<table border=\"1\" class=\"dataframe\">\n",
       "  <thead>\n",
       "    <tr style=\"text-align: right;\">\n",
       "      <th></th>\n",
       "      <th>Agent_Age</th>\n",
       "      <th>Agent_Rating</th>\n",
       "      <th>Store_Latitude</th>\n",
       "      <th>Store_Longitude</th>\n",
       "      <th>Drop_Latitude</th>\n",
       "      <th>Drop_Longitude</th>\n",
       "      <th>Delivery_Time</th>\n",
       "    </tr>\n",
       "  </thead>\n",
       "  <tbody>\n",
       "    <tr>\n",
       "      <th>count</th>\n",
       "      <td>43739.000000</td>\n",
       "      <td>43685.000000</td>\n",
       "      <td>43739.000000</td>\n",
       "      <td>43739.000000</td>\n",
       "      <td>43739.000000</td>\n",
       "      <td>43739.000000</td>\n",
       "      <td>43739.000000</td>\n",
       "    </tr>\n",
       "    <tr>\n",
       "      <th>mean</th>\n",
       "      <td>29.567137</td>\n",
       "      <td>4.633780</td>\n",
       "      <td>17.210960</td>\n",
       "      <td>70.661177</td>\n",
       "      <td>17.459031</td>\n",
       "      <td>70.821842</td>\n",
       "      <td>124.905645</td>\n",
       "    </tr>\n",
       "    <tr>\n",
       "      <th>std</th>\n",
       "      <td>5.815155</td>\n",
       "      <td>0.334716</td>\n",
       "      <td>7.764225</td>\n",
       "      <td>21.475005</td>\n",
       "      <td>7.342950</td>\n",
       "      <td>21.153148</td>\n",
       "      <td>51.915451</td>\n",
       "    </tr>\n",
       "    <tr>\n",
       "      <th>min</th>\n",
       "      <td>15.000000</td>\n",
       "      <td>1.000000</td>\n",
       "      <td>-30.902872</td>\n",
       "      <td>-88.366217</td>\n",
       "      <td>0.010000</td>\n",
       "      <td>0.010000</td>\n",
       "      <td>10.000000</td>\n",
       "    </tr>\n",
       "    <tr>\n",
       "      <th>25%</th>\n",
       "      <td>25.000000</td>\n",
       "      <td>4.500000</td>\n",
       "      <td>12.933298</td>\n",
       "      <td>73.170283</td>\n",
       "      <td>12.985996</td>\n",
       "      <td>73.280000</td>\n",
       "      <td>90.000000</td>\n",
       "    </tr>\n",
       "    <tr>\n",
       "      <th>50%</th>\n",
       "      <td>30.000000</td>\n",
       "      <td>4.700000</td>\n",
       "      <td>18.551440</td>\n",
       "      <td>75.898497</td>\n",
       "      <td>18.633626</td>\n",
       "      <td>76.002574</td>\n",
       "      <td>125.000000</td>\n",
       "    </tr>\n",
       "    <tr>\n",
       "      <th>75%</th>\n",
       "      <td>35.000000</td>\n",
       "      <td>4.900000</td>\n",
       "      <td>22.732225</td>\n",
       "      <td>78.045359</td>\n",
       "      <td>22.785049</td>\n",
       "      <td>78.104095</td>\n",
       "      <td>160.000000</td>\n",
       "    </tr>\n",
       "    <tr>\n",
       "      <th>max</th>\n",
       "      <td>50.000000</td>\n",
       "      <td>6.000000</td>\n",
       "      <td>30.914057</td>\n",
       "      <td>88.433452</td>\n",
       "      <td>31.054057</td>\n",
       "      <td>88.563452</td>\n",
       "      <td>270.000000</td>\n",
       "    </tr>\n",
       "  </tbody>\n",
       "</table>\n",
       "</div>"
      ],
      "text/plain": [
       "          Agent_Age  Agent_Rating  Store_Latitude  Store_Longitude  \\\n",
       "count  43739.000000  43685.000000    43739.000000     43739.000000   \n",
       "mean      29.567137      4.633780       17.210960        70.661177   \n",
       "std        5.815155      0.334716        7.764225        21.475005   \n",
       "min       15.000000      1.000000      -30.902872       -88.366217   \n",
       "25%       25.000000      4.500000       12.933298        73.170283   \n",
       "50%       30.000000      4.700000       18.551440        75.898497   \n",
       "75%       35.000000      4.900000       22.732225        78.045359   \n",
       "max       50.000000      6.000000       30.914057        88.433452   \n",
       "\n",
       "       Drop_Latitude  Drop_Longitude  Delivery_Time  \n",
       "count   43739.000000    43739.000000   43739.000000  \n",
       "mean       17.459031       70.821842     124.905645  \n",
       "std         7.342950       21.153148      51.915451  \n",
       "min         0.010000        0.010000      10.000000  \n",
       "25%        12.985996       73.280000      90.000000  \n",
       "50%        18.633626       76.002574     125.000000  \n",
       "75%        22.785049       78.104095     160.000000  \n",
       "max        31.054057       88.563452     270.000000  "
      ]
     },
     "execution_count": 7,
     "metadata": {},
     "output_type": "execute_result"
    }
   ],
   "source": [
    "amazon.describe()"
   ]
  },
  {
   "cell_type": "code",
   "execution_count": 8,
   "id": "d82f0e77-b97a-42f6-8f6f-71480a18193d",
   "metadata": {},
   "outputs": [
    {
     "data": {
      "text/html": [
       "<div>\n",
       "<style scoped>\n",
       "    .dataframe tbody tr th:only-of-type {\n",
       "        vertical-align: middle;\n",
       "    }\n",
       "\n",
       "    .dataframe tbody tr th {\n",
       "        vertical-align: top;\n",
       "    }\n",
       "\n",
       "    .dataframe thead th {\n",
       "        text-align: right;\n",
       "    }\n",
       "</style>\n",
       "<table border=\"1\" class=\"dataframe\">\n",
       "  <thead>\n",
       "    <tr style=\"text-align: right;\">\n",
       "      <th></th>\n",
       "      <th>Order_ID</th>\n",
       "      <th>Order_Date</th>\n",
       "      <th>Order_Time</th>\n",
       "      <th>Pickup_Time</th>\n",
       "      <th>Weather</th>\n",
       "      <th>Traffic</th>\n",
       "      <th>Vehicle</th>\n",
       "      <th>Area</th>\n",
       "      <th>Category</th>\n",
       "    </tr>\n",
       "  </thead>\n",
       "  <tbody>\n",
       "    <tr>\n",
       "      <th>count</th>\n",
       "      <td>43739</td>\n",
       "      <td>43739</td>\n",
       "      <td>43739</td>\n",
       "      <td>43739</td>\n",
       "      <td>43648</td>\n",
       "      <td>43739</td>\n",
       "      <td>43739</td>\n",
       "      <td>43739</td>\n",
       "      <td>43739</td>\n",
       "    </tr>\n",
       "    <tr>\n",
       "      <th>unique</th>\n",
       "      <td>43739</td>\n",
       "      <td>44</td>\n",
       "      <td>177</td>\n",
       "      <td>193</td>\n",
       "      <td>6</td>\n",
       "      <td>5</td>\n",
       "      <td>4</td>\n",
       "      <td>4</td>\n",
       "      <td>16</td>\n",
       "    </tr>\n",
       "    <tr>\n",
       "      <th>top</th>\n",
       "      <td>nsyz997960170</td>\n",
       "      <td>2022-03-15</td>\n",
       "      <td>21:55:00</td>\n",
       "      <td>21:30:00</td>\n",
       "      <td>Fog</td>\n",
       "      <td>Low</td>\n",
       "      <td>motorcycle</td>\n",
       "      <td>Metropolitian</td>\n",
       "      <td>Electronics</td>\n",
       "    </tr>\n",
       "    <tr>\n",
       "      <th>freq</th>\n",
       "      <td>1</td>\n",
       "      <td>1141</td>\n",
       "      <td>460</td>\n",
       "      <td>481</td>\n",
       "      <td>7440</td>\n",
       "      <td>14999</td>\n",
       "      <td>25527</td>\n",
       "      <td>32698</td>\n",
       "      <td>2849</td>\n",
       "    </tr>\n",
       "  </tbody>\n",
       "</table>\n",
       "</div>"
      ],
      "text/plain": [
       "             Order_ID  Order_Date Order_Time Pickup_Time Weather Traffic  \\\n",
       "count           43739       43739      43739       43739   43648   43739   \n",
       "unique          43739          44        177         193       6       5   \n",
       "top     nsyz997960170  2022-03-15   21:55:00    21:30:00     Fog    Low    \n",
       "freq                1        1141        460         481    7440   14999   \n",
       "\n",
       "            Vehicle            Area     Category  \n",
       "count         43739           43739        43739  \n",
       "unique            4               4           16  \n",
       "top     motorcycle   Metropolitian   Electronics  \n",
       "freq          25527           32698         2849  "
      ]
     },
     "execution_count": 8,
     "metadata": {},
     "output_type": "execute_result"
    }
   ],
   "source": [
    "amazon.describe(include = 'O')"
   ]
  },
  {
   "cell_type": "markdown",
   "id": "bf403cd9-d314-4ecc-8c45-62fd9a7133e4",
   "metadata": {},
   "source": [
    "As I start to clean this data I will create a duplicate dataframe to uphold the integrity of the original."
   ]
  },
  {
   "cell_type": "markdown",
   "id": "889543c1-dd0f-4932-ae4a-e0f403d2c8c4",
   "metadata": {},
   "source": [
    "### "
   ]
  },
  {
   "cell_type": "markdown",
   "id": "a03bc559-b255-48e9-b964-80efc952c6c5",
   "metadata": {},
   "source": [
    "### Whilst doing this I will remove the null values using '.dropna'"
   ]
  },
  {
   "cell_type": "code",
   "execution_count": 9,
   "id": "9f8cff1b-3e56-4615-b618-09fd078b136b",
   "metadata": {},
   "outputs": [],
   "source": [
    "amazonwork = amazon.dropna()"
   ]
  },
  {
   "cell_type": "markdown",
   "id": "731a8bda-44fc-496c-a6b8-b5655361b0b3",
   "metadata": {},
   "source": [
    "And to check this has worked as expected..."
   ]
  },
  {
   "cell_type": "code",
   "execution_count": 10,
   "id": "4e73e067-9cdf-4000-8751-dc69299be32f",
   "metadata": {},
   "outputs": [
    {
     "data": {
      "text/html": [
       "<div>\n",
       "<style scoped>\n",
       "    .dataframe tbody tr th:only-of-type {\n",
       "        vertical-align: middle;\n",
       "    }\n",
       "\n",
       "    .dataframe tbody tr th {\n",
       "        vertical-align: top;\n",
       "    }\n",
       "\n",
       "    .dataframe thead th {\n",
       "        text-align: right;\n",
       "    }\n",
       "</style>\n",
       "<table border=\"1\" class=\"dataframe\">\n",
       "  <thead>\n",
       "    <tr style=\"text-align: right;\">\n",
       "      <th></th>\n",
       "      <th>Order_ID</th>\n",
       "      <th>Agent_Age</th>\n",
       "      <th>Agent_Rating</th>\n",
       "      <th>Store_Latitude</th>\n",
       "      <th>Store_Longitude</th>\n",
       "      <th>Drop_Latitude</th>\n",
       "      <th>Drop_Longitude</th>\n",
       "      <th>Order_Date</th>\n",
       "      <th>Order_Time</th>\n",
       "      <th>Pickup_Time</th>\n",
       "      <th>Weather</th>\n",
       "      <th>Traffic</th>\n",
       "      <th>Vehicle</th>\n",
       "      <th>Area</th>\n",
       "      <th>Delivery_Time</th>\n",
       "      <th>Category</th>\n",
       "    </tr>\n",
       "  </thead>\n",
       "  <tbody>\n",
       "    <tr>\n",
       "      <th>0</th>\n",
       "      <td>ialx566343618</td>\n",
       "      <td>37</td>\n",
       "      <td>4.9</td>\n",
       "      <td>22.745049</td>\n",
       "      <td>75.892471</td>\n",
       "      <td>22.765049</td>\n",
       "      <td>75.912471</td>\n",
       "      <td>2022-03-19</td>\n",
       "      <td>11:30:00</td>\n",
       "      <td>11:45:00</td>\n",
       "      <td>Sunny</td>\n",
       "      <td>High</td>\n",
       "      <td>motorcycle</td>\n",
       "      <td>Urban</td>\n",
       "      <td>120</td>\n",
       "      <td>Clothing</td>\n",
       "    </tr>\n",
       "    <tr>\n",
       "      <th>1</th>\n",
       "      <td>akqg208421122</td>\n",
       "      <td>34</td>\n",
       "      <td>4.5</td>\n",
       "      <td>12.913041</td>\n",
       "      <td>77.683237</td>\n",
       "      <td>13.043041</td>\n",
       "      <td>77.813237</td>\n",
       "      <td>2022-03-25</td>\n",
       "      <td>19:45:00</td>\n",
       "      <td>19:50:00</td>\n",
       "      <td>Stormy</td>\n",
       "      <td>Jam</td>\n",
       "      <td>scooter</td>\n",
       "      <td>Metropolitian</td>\n",
       "      <td>165</td>\n",
       "      <td>Electronics</td>\n",
       "    </tr>\n",
       "    <tr>\n",
       "      <th>2</th>\n",
       "      <td>njpu434582536</td>\n",
       "      <td>23</td>\n",
       "      <td>4.4</td>\n",
       "      <td>12.914264</td>\n",
       "      <td>77.678400</td>\n",
       "      <td>12.924264</td>\n",
       "      <td>77.688400</td>\n",
       "      <td>2022-03-19</td>\n",
       "      <td>08:30:00</td>\n",
       "      <td>08:45:00</td>\n",
       "      <td>Sandstorms</td>\n",
       "      <td>Low</td>\n",
       "      <td>motorcycle</td>\n",
       "      <td>Urban</td>\n",
       "      <td>130</td>\n",
       "      <td>Sports</td>\n",
       "    </tr>\n",
       "    <tr>\n",
       "      <th>3</th>\n",
       "      <td>rjto796129700</td>\n",
       "      <td>38</td>\n",
       "      <td>4.7</td>\n",
       "      <td>11.003669</td>\n",
       "      <td>76.976494</td>\n",
       "      <td>11.053669</td>\n",
       "      <td>77.026494</td>\n",
       "      <td>2022-04-05</td>\n",
       "      <td>18:00:00</td>\n",
       "      <td>18:10:00</td>\n",
       "      <td>Sunny</td>\n",
       "      <td>Medium</td>\n",
       "      <td>motorcycle</td>\n",
       "      <td>Metropolitian</td>\n",
       "      <td>105</td>\n",
       "      <td>Cosmetics</td>\n",
       "    </tr>\n",
       "    <tr>\n",
       "      <th>4</th>\n",
       "      <td>zguw716275638</td>\n",
       "      <td>32</td>\n",
       "      <td>4.6</td>\n",
       "      <td>12.972793</td>\n",
       "      <td>80.249982</td>\n",
       "      <td>13.012793</td>\n",
       "      <td>80.289982</td>\n",
       "      <td>2022-03-26</td>\n",
       "      <td>13:30:00</td>\n",
       "      <td>13:45:00</td>\n",
       "      <td>Cloudy</td>\n",
       "      <td>High</td>\n",
       "      <td>scooter</td>\n",
       "      <td>Metropolitian</td>\n",
       "      <td>150</td>\n",
       "      <td>Toys</td>\n",
       "    </tr>\n",
       "  </tbody>\n",
       "</table>\n",
       "</div>"
      ],
      "text/plain": [
       "        Order_ID  Agent_Age  Agent_Rating  Store_Latitude  Store_Longitude  \\\n",
       "0  ialx566343618         37           4.9       22.745049        75.892471   \n",
       "1  akqg208421122         34           4.5       12.913041        77.683237   \n",
       "2  njpu434582536         23           4.4       12.914264        77.678400   \n",
       "3  rjto796129700         38           4.7       11.003669        76.976494   \n",
       "4  zguw716275638         32           4.6       12.972793        80.249982   \n",
       "\n",
       "   Drop_Latitude  Drop_Longitude  Order_Date Order_Time Pickup_Time  \\\n",
       "0      22.765049       75.912471  2022-03-19   11:30:00    11:45:00   \n",
       "1      13.043041       77.813237  2022-03-25   19:45:00    19:50:00   \n",
       "2      12.924264       77.688400  2022-03-19   08:30:00    08:45:00   \n",
       "3      11.053669       77.026494  2022-04-05   18:00:00    18:10:00   \n",
       "4      13.012793       80.289982  2022-03-26   13:30:00    13:45:00   \n",
       "\n",
       "      Weather  Traffic      Vehicle            Area  Delivery_Time  \\\n",
       "0       Sunny    High   motorcycle           Urban             120   \n",
       "1      Stormy     Jam      scooter   Metropolitian             165   \n",
       "2  Sandstorms     Low   motorcycle           Urban             130   \n",
       "3       Sunny  Medium   motorcycle   Metropolitian             105   \n",
       "4      Cloudy    High      scooter   Metropolitian             150   \n",
       "\n",
       "      Category  \n",
       "0     Clothing  \n",
       "1  Electronics  \n",
       "2       Sports  \n",
       "3    Cosmetics  \n",
       "4         Toys  "
      ]
     },
     "execution_count": 10,
     "metadata": {},
     "output_type": "execute_result"
    }
   ],
   "source": [
    "amazonwork.head()"
   ]
  },
  {
   "cell_type": "code",
   "execution_count": 11,
   "id": "b269b184-2a6b-4190-9245-40a302cfad87",
   "metadata": {},
   "outputs": [
    {
     "name": "stdout",
     "output_type": "stream",
     "text": [
      "<class 'pandas.core.frame.DataFrame'>\n",
      "Index: 43594 entries, 0 to 43738\n",
      "Data columns (total 16 columns):\n",
      " #   Column           Non-Null Count  Dtype  \n",
      "---  ------           --------------  -----  \n",
      " 0   Order_ID         43594 non-null  object \n",
      " 1   Agent_Age        43594 non-null  int64  \n",
      " 2   Agent_Rating     43594 non-null  float64\n",
      " 3   Store_Latitude   43594 non-null  float64\n",
      " 4   Store_Longitude  43594 non-null  float64\n",
      " 5   Drop_Latitude    43594 non-null  float64\n",
      " 6   Drop_Longitude   43594 non-null  float64\n",
      " 7   Order_Date       43594 non-null  object \n",
      " 8   Order_Time       43594 non-null  object \n",
      " 9   Pickup_Time      43594 non-null  object \n",
      " 10  Weather          43594 non-null  object \n",
      " 11  Traffic          43594 non-null  object \n",
      " 12  Vehicle          43594 non-null  object \n",
      " 13  Area             43594 non-null  object \n",
      " 14  Delivery_Time    43594 non-null  int64  \n",
      " 15  Category         43594 non-null  object \n",
      "dtypes: float64(5), int64(2), object(9)\n",
      "memory usage: 5.7+ MB\n"
     ]
    }
   ],
   "source": [
    "amazonwork.info()"
   ]
  },
  {
   "cell_type": "markdown",
   "id": "7ddf48f7-227c-4afe-8871-e8217ac61b35",
   "metadata": {},
   "source": [
    "By removing all of the NULL values I have lost only 145 rows which still leaves me over 43,500 to work with, I am happy with that as this is only a portfolio project."
   ]
  },
  {
   "cell_type": "markdown",
   "id": "b6712c8b-be0b-4299-abc4-43d10b3db426",
   "metadata": {},
   "source": [
    "### I will now remove the columns I am not interested in using '.DROP'."
   ]
  },
  {
   "cell_type": "code",
   "execution_count": 12,
   "id": "713ea2b4-4f52-49ab-a7e3-45c779cd0cf7",
   "metadata": {},
   "outputs": [],
   "source": [
    "amazonwork = amazonwork.drop(columns=['Store_Latitude', 'Store_Longitude', 'Drop_Latitude', 'Drop_Longitude', 'Order_Time', 'Pickup_Time'])"
   ]
  },
  {
   "cell_type": "markdown",
   "id": "65681af3-5b4d-490d-a4e7-0919998ef74b",
   "metadata": {},
   "source": [
    "And to check if that worked..."
   ]
  },
  {
   "cell_type": "code",
   "execution_count": 13,
   "id": "40edb601-08e4-4954-97d1-705f8c14c906",
   "metadata": {},
   "outputs": [
    {
     "name": "stdout",
     "output_type": "stream",
     "text": [
      "<class 'pandas.core.frame.DataFrame'>\n",
      "Index: 43594 entries, 0 to 43738\n",
      "Data columns (total 10 columns):\n",
      " #   Column         Non-Null Count  Dtype  \n",
      "---  ------         --------------  -----  \n",
      " 0   Order_ID       43594 non-null  object \n",
      " 1   Agent_Age      43594 non-null  int64  \n",
      " 2   Agent_Rating   43594 non-null  float64\n",
      " 3   Order_Date     43594 non-null  object \n",
      " 4   Weather        43594 non-null  object \n",
      " 5   Traffic        43594 non-null  object \n",
      " 6   Vehicle        43594 non-null  object \n",
      " 7   Area           43594 non-null  object \n",
      " 8   Delivery_Time  43594 non-null  int64  \n",
      " 9   Category       43594 non-null  object \n",
      "dtypes: float64(1), int64(2), object(7)\n",
      "memory usage: 3.7+ MB\n"
     ]
    }
   ],
   "source": [
    "amazonwork.info()"
   ]
  },
  {
   "cell_type": "markdown",
   "id": "08484b62-b108-4df8-8c01-3d04c19d3bd0",
   "metadata": {},
   "source": [
    "### Now i want to change the data type for the date column using '.TO_DATETIME' and to test if it worked."
   ]
  },
  {
   "cell_type": "code",
   "execution_count": 14,
   "id": "35b7c440-b874-4f44-a533-184da696de00",
   "metadata": {},
   "outputs": [],
   "source": [
    "amazonwork['Order_Date'] = pd.to_datetime(amazonwork['Order_Date'])"
   ]
  },
  {
   "cell_type": "code",
   "execution_count": 15,
   "id": "cb8407fa-0960-4002-8fc8-f54e7ee3eb75",
   "metadata": {},
   "outputs": [
    {
     "name": "stdout",
     "output_type": "stream",
     "text": [
      "<class 'pandas.core.frame.DataFrame'>\n",
      "Index: 43594 entries, 0 to 43738\n",
      "Data columns (total 10 columns):\n",
      " #   Column         Non-Null Count  Dtype         \n",
      "---  ------         --------------  -----         \n",
      " 0   Order_ID       43594 non-null  object        \n",
      " 1   Agent_Age      43594 non-null  int64         \n",
      " 2   Agent_Rating   43594 non-null  float64       \n",
      " 3   Order_Date     43594 non-null  datetime64[ns]\n",
      " 4   Weather        43594 non-null  object        \n",
      " 5   Traffic        43594 non-null  object        \n",
      " 6   Vehicle        43594 non-null  object        \n",
      " 7   Area           43594 non-null  object        \n",
      " 8   Delivery_Time  43594 non-null  int64         \n",
      " 9   Category       43594 non-null  object        \n",
      "dtypes: datetime64[ns](1), float64(1), int64(2), object(6)\n",
      "memory usage: 3.7+ MB\n"
     ]
    }
   ],
   "source": [
    "amazonwork.info()"
   ]
  },
  {
   "cell_type": "markdown",
   "id": "c3a5fad4-4445-4914-a0bb-b4c0136a8d68",
   "metadata": {},
   "source": [
    "### I now want to rename a few columns to make this more user friendly. I will use '.RENAME', and test it worked."
   ]
  },
  {
   "cell_type": "code",
   "execution_count": 16,
   "id": "22e977ed-7175-4aa5-95b3-16613a461fe9",
   "metadata": {},
   "outputs": [],
   "source": [
    "amazonwork = amazonwork.rename(columns={'Agent_Age':'Courier_Age'})"
   ]
  },
  {
   "cell_type": "code",
   "execution_count": 17,
   "id": "144e491d-fb56-49b8-a91c-cd06dcf6c44d",
   "metadata": {},
   "outputs": [],
   "source": [
    "amazonwork = amazonwork.rename(columns={'Agent_Rating':'Courier_Rating'})"
   ]
  },
  {
   "cell_type": "code",
   "execution_count": 53,
   "id": "749f5a77-c0de-4a64-8f47-bd72e73508fa",
   "metadata": {},
   "outputs": [],
   "source": [
    "amazonwork = amazonwork.rename(columns={'Area':'Urban_Area'})"
   ]
  },
  {
   "cell_type": "code",
   "execution_count": 54,
   "id": "8c8a0655-cb2b-4073-bd6d-92b91f5c07d7",
   "metadata": {},
   "outputs": [],
   "source": [
    "amazonwork = amazonwork.rename(columns={'Category':'Product_Category'})"
   ]
  },
  {
   "cell_type": "code",
   "execution_count": 55,
   "id": "7ddb90d6-01d3-45f3-ba8b-5f0eabce8425",
   "metadata": {},
   "outputs": [
    {
     "data": {
      "text/html": [
       "<div>\n",
       "<style scoped>\n",
       "    .dataframe tbody tr th:only-of-type {\n",
       "        vertical-align: middle;\n",
       "    }\n",
       "\n",
       "    .dataframe tbody tr th {\n",
       "        vertical-align: top;\n",
       "    }\n",
       "\n",
       "    .dataframe thead th {\n",
       "        text-align: right;\n",
       "    }\n",
       "</style>\n",
       "<table border=\"1\" class=\"dataframe\">\n",
       "  <thead>\n",
       "    <tr style=\"text-align: right;\">\n",
       "      <th></th>\n",
       "      <th>Order_ID</th>\n",
       "      <th>Courier_Age</th>\n",
       "      <th>Courier_Rating</th>\n",
       "      <th>Order_Date</th>\n",
       "      <th>Weather</th>\n",
       "      <th>Traffic</th>\n",
       "      <th>Vehicle</th>\n",
       "      <th>Urban_Area</th>\n",
       "      <th>Delivery_Time</th>\n",
       "      <th>Product_Category</th>\n",
       "    </tr>\n",
       "  </thead>\n",
       "  <tbody>\n",
       "    <tr>\n",
       "      <th>0</th>\n",
       "      <td>ialx566343618</td>\n",
       "      <td>37</td>\n",
       "      <td>4.9</td>\n",
       "      <td>2022-03-19</td>\n",
       "      <td>Sunny</td>\n",
       "      <td>High</td>\n",
       "      <td>motorcycle</td>\n",
       "      <td>Urban</td>\n",
       "      <td>120</td>\n",
       "      <td>Clothing</td>\n",
       "    </tr>\n",
       "    <tr>\n",
       "      <th>1</th>\n",
       "      <td>akqg208421122</td>\n",
       "      <td>34</td>\n",
       "      <td>4.5</td>\n",
       "      <td>2022-03-25</td>\n",
       "      <td>Stormy</td>\n",
       "      <td>Jam</td>\n",
       "      <td>scooter</td>\n",
       "      <td>Metropolitian</td>\n",
       "      <td>165</td>\n",
       "      <td>Electronics</td>\n",
       "    </tr>\n",
       "    <tr>\n",
       "      <th>2</th>\n",
       "      <td>njpu434582536</td>\n",
       "      <td>23</td>\n",
       "      <td>4.4</td>\n",
       "      <td>2022-03-19</td>\n",
       "      <td>Sandstorms</td>\n",
       "      <td>Low</td>\n",
       "      <td>motorcycle</td>\n",
       "      <td>Urban</td>\n",
       "      <td>130</td>\n",
       "      <td>Sports</td>\n",
       "    </tr>\n",
       "    <tr>\n",
       "      <th>3</th>\n",
       "      <td>rjto796129700</td>\n",
       "      <td>38</td>\n",
       "      <td>4.7</td>\n",
       "      <td>2022-04-05</td>\n",
       "      <td>Sunny</td>\n",
       "      <td>Medium</td>\n",
       "      <td>motorcycle</td>\n",
       "      <td>Metropolitian</td>\n",
       "      <td>105</td>\n",
       "      <td>Cosmetics</td>\n",
       "    </tr>\n",
       "    <tr>\n",
       "      <th>4</th>\n",
       "      <td>zguw716275638</td>\n",
       "      <td>32</td>\n",
       "      <td>4.6</td>\n",
       "      <td>2022-03-26</td>\n",
       "      <td>Cloudy</td>\n",
       "      <td>High</td>\n",
       "      <td>scooter</td>\n",
       "      <td>Metropolitian</td>\n",
       "      <td>150</td>\n",
       "      <td>Toys</td>\n",
       "    </tr>\n",
       "  </tbody>\n",
       "</table>\n",
       "</div>"
      ],
      "text/plain": [
       "        Order_ID  Courier_Age  Courier_Rating Order_Date     Weather  Traffic  \\\n",
       "0  ialx566343618           37             4.9 2022-03-19       Sunny    High    \n",
       "1  akqg208421122           34             4.5 2022-03-25      Stormy     Jam    \n",
       "2  njpu434582536           23             4.4 2022-03-19  Sandstorms     Low    \n",
       "3  rjto796129700           38             4.7 2022-04-05       Sunny  Medium    \n",
       "4  zguw716275638           32             4.6 2022-03-26      Cloudy    High    \n",
       "\n",
       "       Vehicle      Urban_Area  Delivery_Time Product_Category  \n",
       "0  motorcycle           Urban             120         Clothing  \n",
       "1     scooter   Metropolitian             165      Electronics  \n",
       "2  motorcycle           Urban             130           Sports  \n",
       "3  motorcycle   Metropolitian             105        Cosmetics  \n",
       "4     scooter   Metropolitian             150             Toys  "
      ]
     },
     "execution_count": 55,
     "metadata": {},
     "output_type": "execute_result"
    }
   ],
   "source": [
    "amazonwork.head()"
   ]
  },
  {
   "cell_type": "markdown",
   "id": "c03e87c6-0590-44e0-a13d-79e0666c119c",
   "metadata": {},
   "source": [
    "I am now happy with how the data is looking."
   ]
  },
  {
   "cell_type": "markdown",
   "id": "ac009c68-fcc4-44a7-82dd-f6f4c1a1c70d",
   "metadata": {},
   "source": [
    " ### Lets see how courier age and rating affects the delivery time."
   ]
  },
  {
   "cell_type": "code",
   "execution_count": 56,
   "id": "5d9d1e97-37e8-495b-84da-d2b48e72c1d4",
   "metadata": {},
   "outputs": [
    {
     "data": {
      "text/plain": [
       "<Axes: xlabel='Courier_Age', ylabel='Delivery_Time'>"
      ]
     },
     "execution_count": 56,
     "metadata": {},
     "output_type": "execute_result"
    },
    {
     "data": {
      "image/png": "[encoded data removed]",
      "text/plain": [
       "<Figure size 640x480 with 1 Axes>"
      ]
     },
     "metadata": {},
     "output_type": "display_data"
    }
   ],
   "source": [
    "sns.barplot(x='Courier_Age', y='Delivery_Time',data=amazonwork)"
   ]
  },
  {
   "cell_type": "markdown",
   "id": "fff72573-5211-4c44-8b05-794a7ea69125",
   "metadata": {},
   "source": [
    "The above chart shows that the quicker deliveries are made by the younger couriers. this could mean that younger, fitter couriers can move quicker, or it could mean that older couriers drive slower."
   ]
  },
  {
   "cell_type": "code",
   "execution_count": 75,
   "id": "61e62eee-e935-4889-8fc0-6990656dc228",
   "metadata": {},
   "outputs": [
    {
     "data": {
      "text/plain": [
       "(array([ 0,  1,  2,  3,  4,  5,  6,  7,  8,  9, 10, 11, 12, 13, 14, 15, 16,\n",
       "        17, 18, 19, 20, 21, 22, 23, 24, 25]),\n",
       " [Text(0, 0, '2.5'),\n",
       "  Text(1, 0, '2.6'),\n",
       "  Text(2, 0, '2.7'),\n",
       "  Text(3, 0, '2.8'),\n",
       "  Text(4, 0, '2.9'),\n",
       "  Text(5, 0, '3.0'),\n",
       "  Text(6, 0, '3.1'),\n",
       "  Text(7, 0, '3.2'),\n",
       "  Text(8, 0, '3.3'),\n",
       "  Text(9, 0, '3.4'),\n",
       "  Text(10, 0, '3.5'),\n",
       "  Text(11, 0, '3.6'),\n",
       "  Text(12, 0, '3.7'),\n",
       "  Text(13, 0, '3.8'),\n",
       "  Text(14, 0, '3.9'),\n",
       "  Text(15, 0, '4.0'),\n",
       "  Text(16, 0, '4.1'),\n",
       "  Text(17, 0, '4.2'),\n",
       "  Text(18, 0, '4.3'),\n",
       "  Text(19, 0, '4.4'),\n",
       "  Text(20, 0, '4.5'),\n",
       "  Text(21, 0, '4.6'),\n",
       "  Text(22, 0, '4.7'),\n",
       "  Text(23, 0, '4.8'),\n",
       "  Text(24, 0, '4.9'),\n",
       "  Text(25, 0, '5.0')])"
      ]
     },
     "execution_count": 75,
     "metadata": {},
     "output_type": "execute_result"
    },
    {
     "data": {
      "image/png": "[encoded data removed]",
      "text/plain": [
       "<Figure size 640x480 with 1 Axes>"
      ]
     },
     "metadata": {},
     "output_type": "display_data"
    }
   ],
   "source": [
    "sns.barplot(x='Courier_Rating', y='Delivery_Time',data=amazonwork)\n",
    "plt.xticks(rotation=90)"
   ]
  },
  {
   "cell_type": "markdown",
   "id": "41b09662-2297-4663-9a4d-7798c8f5a07b",
   "metadata": {},
   "source": [
    "This shows that the delivery time reduces as the courier rating goes up. This suggest that the higher rated courier deliver faster. Or that courier speed is a main factor when the ratings are given.\n",
    "    Now lets look at a few other factors."
   ]
  },
  {
   "cell_type": "markdown",
   "id": "7983da2d-391f-4ad3-9dac-8173bceca8ee",
   "metadata": {},
   "source": [
    "###  Now lets look at a few other factors."
   ]
  },
  {
   "cell_type": "code",
   "execution_count": 58,
   "id": "8951056e-9b2b-429d-ac4c-c9479d988618",
   "metadata": {},
   "outputs": [
    {
     "data": {
      "text/plain": [
       "<Axes: xlabel='Weather', ylabel='Delivery_Time'>"
      ]
     },
     "execution_count": 58,
     "metadata": {},
     "output_type": "execute_result"
    },
    {
     "data": {
      "image/png": "[encoded data removed]",
      "text/plain": [
       "<Figure size 640x480 with 1 Axes>"
      ]
     },
     "metadata": {},
     "output_type": "display_data"
    }
   ],
   "source": [
    "sns.barplot(x='Weather', y='Delivery_Time',data=amazonwork)"
   ]
  },
  {
   "cell_type": "markdown",
   "id": "31e9b23f-423e-4aef-a966-5cefb20ff01a",
   "metadata": {},
   "source": [
    "Looking at the weather it shows that sunny weather allows for the fastest delivery times, conversely, cloudy or foggy weather slow the delivery time down the most."
   ]
  },
  {
   "cell_type": "code",
   "execution_count": 59,
   "id": "a0b18b65-9518-41d7-b1cb-8944134020f8",
   "metadata": {},
   "outputs": [
    {
     "data": {
      "text/plain": [
       "<Axes: xlabel='Traffic', ylabel='Delivery_Time'>"
      ]
     },
     "execution_count": 59,
     "metadata": {},
     "output_type": "execute_result"
    },
    {
     "data": {
      "image/png": "[encoded data removed]",
      "text/plain": [
       "<Figure size 640x480 with 1 Axes>"
      ]
     },
     "metadata": {},
     "output_type": "display_data"
    }
   ],
   "source": [
    "sns.barplot(x='Traffic', y='Delivery_Time',data=amazonwork)"
   ]
  },
  {
   "cell_type": "markdown",
   "id": "c08e29aa-d784-4372-97c6-bb15222e7ff0",
   "metadata": {},
   "source": [
    "looking at the traffic there are no surprises. Traffic jams and high traffic mean the slowest delivery times, followed by medium traffic, with low traffic being the fastest deliveries."
   ]
  },
  {
   "cell_type": "code",
   "execution_count": 82,
   "id": "125d836a-c2ef-4efd-9283-99118a78a191",
   "metadata": {},
   "outputs": [
    {
     "data": {
      "text/plain": [
       "<Axes: xlabel='Vehicle', ylabel='Delivery_Time'>"
      ]
     },
     "execution_count": 82,
     "metadata": {},
     "output_type": "execute_result"
    },
    {
     "data": {
      "image/png": "[encoded data removed]",
      "text/plain": [
       "<Figure size 640x480 with 1 Axes>"
      ]
     },
     "metadata": {},
     "output_type": "display_data"
    }
   ],
   "source": [
    "sns.barplot(x='Vehicle', y='Delivery_Time',data=amazonwork)"
   ]
  },
  {
   "cell_type": "markdown",
   "id": "84b48383-f192-4cff-a79c-b5bfc24b015a",
   "metadata": {},
   "source": [
    "This chart was surprising to me. It shows that the slowest vehicle type is a motorcycle, with scooters and vans being about the same. It would be interesting to know their definitions of a scooter and a Motorcycle. Vans being quicker that Motorcycles was surprising, however this could be because of the limited carrying capacity, and could mean vans have to go back to the depot less frequently."
   ]
  },
  {
   "cell_type": "code",
   "execution_count": 61,
   "id": "6072be34-6ca6-48ba-a48e-f74ea091125a",
   "metadata": {},
   "outputs": [
    {
     "data": {
      "text/plain": [
       "<Axes: xlabel='Urban_Area', ylabel='Delivery_Time'>"
      ]
     },
     "execution_count": 61,
     "metadata": {},
     "output_type": "execute_result"
    },
    {
     "data": {
      "image/png": "[encoded data removed]",
      "text/plain": [
       "<Figure size 640x480 with 1 Axes>"
      ]
     },
     "metadata": {},
     "output_type": "display_data"
    }
   ],
   "source": [
    "sns.barplot(x='Urban_Area', y='Delivery_Time',data=amazonwork)"
   ]
  },
  {
   "cell_type": "markdown",
   "id": "c776e7f6-74ed-408e-9088-665076e61dec",
   "metadata": {},
   "source": [
    "Not knowing how, whoever compiled the data set, differentiates between the categories makes it difficult to interpret this chart, other than saying semi-urban is the slowest area for deliveries."
   ]
  },
  {
   "cell_type": "code",
   "execution_count": 74,
   "id": "3ca8ed41-86b8-4b8e-af74-4aeb458f2e5c",
   "metadata": {},
   "outputs": [
    {
     "data": {
      "text/plain": [
       "(array([ 0,  1,  2,  3,  4,  5,  6,  7,  8,  9, 10, 11, 12, 13, 14, 15]),\n",
       " [Text(0, 0, 'Clothing'),\n",
       "  Text(1, 0, 'Electronics'),\n",
       "  Text(2, 0, 'Sports'),\n",
       "  Text(3, 0, 'Cosmetics'),\n",
       "  Text(4, 0, 'Toys'),\n",
       "  Text(5, 0, 'Snacks'),\n",
       "  Text(6, 0, 'Shoes'),\n",
       "  Text(7, 0, 'Apparel'),\n",
       "  Text(8, 0, 'Jewelry'),\n",
       "  Text(9, 0, 'Outdoors'),\n",
       "  Text(10, 0, 'Grocery'),\n",
       "  Text(11, 0, 'Books'),\n",
       "  Text(12, 0, 'Kitchen'),\n",
       "  Text(13, 0, 'Home'),\n",
       "  Text(14, 0, 'Pet Supplies'),\n",
       "  Text(15, 0, 'Skincare')])"
      ]
     },
     "execution_count": 74,
     "metadata": {},
     "output_type": "execute_result"
    },
    {
     "data": {
      "image/png": "[encoded data removed]",
      "text/plain": [
       "<Figure size 640x480 with 1 Axes>"
      ]
     },
     "metadata": {},
     "output_type": "display_data"
    }
   ],
   "source": [
    "sns.barplot(x='Product_Category', y='Delivery_Time',data=amazonwork),\n",
    "plt.xticks(rotation=90)"
   ]
  },
  {
   "cell_type": "markdown",
   "id": "7bbb28b3-e322-4308-8794-f790f35c9aba",
   "metadata": {},
   "source": [
    "This shows that grocery is by far the category with the fastest delivery times. To me this suggests, as grocery is mostly perishable, there are probably more pick up points for the grocery category. For example, groceries could be picked up from a local supermarket down the road, where as everything else comes from a centralised depot. "
   ]
  },
  {
   "cell_type": "markdown",
   "id": "2ef74b30-bf76-493e-b559-8e59444715d6",
   "metadata": {},
   "source": [
    "## My conclusions"
   ]
  },
  {
   "cell_type": "markdown",
   "id": "d6c5ab64-c4be-4534-8de1-e577fe6362da",
   "metadata": {},
   "source": [
    "Looking at the above data some things were obvious, some were surprising. Traffic affects the delivery time as we would expect, so do weather conditions. Better traffic conditions mean faster deliveries. As do better weather conditions. The courier age and rating also affect the delivery times as we would expect. Younger and higher rated couriers being faster than lower rated and older couriers. The vehicle breakdown was surprising with motorcycles being the slowest vehicle type and vans and scooters being faster. As we do not know how scooters and motorcycles were differentiated between each other. As stated before, this could mean vans are not going back to do pick ups as often as the motorcycles, giving them a lower delivery time average. With scooters being quicker than motorcycles too, is it possible scooters do more grocery deliveries ? They are after all the fastest deliveries by far. We also do not know how they define the urban areas, it would be nice to know as this seems a little weird that semi-urban areas provide slower delivery times than urban and metropolitan areas. All the categories seem about the same delivery time average, except for the grocery product type. As mentioned earlier, this suggests all products are stored at a central hub and delivered from there, except for the groceries. I would say the groceries are picked up from more locations, shops or supermarkets, making them nearer to the drop off points, thus decreasing the delivery time. I believe the delivering depot could use this information to let customers know an ETA of their delivery. If they know the variables, such as weather, vehicle, traffic, they could roughly let the customer know when their delivery will arrive. This would be especially helpful with grocery deliveries, these being perishable. Also, Looking at the weather column, included is 'sandstorm'. this would suggest a hot climate, making the ETA of perishable goods even more important to know."
   ]
  }
 ],
 "metadata": {
  "kernelspec": {
   "display_name": "anaconda-2024.02-py310",
   "language": "python",
   "name": "conda-env-anaconda-2024.02-py310-py"
  },
  "language_info": {
   "codemirror_mode": {
    "name": "ipython",
    "version": 3
   },
   "file_extension": ".py",
   "mimetype": "text/x-python",
   "name": "python",
   "nbconvert_exporter": "python",
   "pygments_lexer": "ipython3",
   "version": "3.10.14"
  }
 },
 "nbformat": 4,
 "nbformat_minor": 5
}
